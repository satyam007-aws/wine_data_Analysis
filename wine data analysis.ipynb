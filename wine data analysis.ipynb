{
 "cells": [
  {
   "cell_type": "code",
   "execution_count": 1,
   "id": "c9d65c9e",
   "metadata": {},
   "outputs": [],
   "source": [
    "import pandas as pd\n",
    "import numpy as np\n",
    "from matplotlib import pyplot as plt\n",
    "import seaborn as sns\n",
    "%matplotlib inline"
   ]
  },
  {
   "cell_type": "code",
   "execution_count": 2,
   "id": "73861093",
   "metadata": {},
   "outputs": [
    {
     "data": {
      "text/html": [
       "<div>\n",
       "<style scoped>\n",
       "    .dataframe tbody tr th:only-of-type {\n",
       "        vertical-align: middle;\n",
       "    }\n",
       "\n",
       "    .dataframe tbody tr th {\n",
       "        vertical-align: top;\n",
       "    }\n",
       "\n",
       "    .dataframe thead th {\n",
       "        text-align: right;\n",
       "    }\n",
       "</style>\n",
       "<table border=\"1\" class=\"dataframe\">\n",
       "  <thead>\n",
       "    <tr style=\"text-align: right;\">\n",
       "      <th></th>\n",
       "      <th>S.NO</th>\n",
       "      <th>country</th>\n",
       "      <th>description</th>\n",
       "      <th>designation</th>\n",
       "      <th>points</th>\n",
       "      <th>price</th>\n",
       "      <th>province</th>\n",
       "      <th>region_1</th>\n",
       "      <th>region_2</th>\n",
       "      <th>taster_name</th>\n",
       "      <th>taster_twitter_handle</th>\n",
       "      <th>title</th>\n",
       "      <th>variety</th>\n",
       "      <th>winery</th>\n",
       "    </tr>\n",
       "  </thead>\n",
       "  <tbody>\n",
       "    <tr>\n",
       "      <th>0</th>\n",
       "      <td>0</td>\n",
       "      <td>Italy</td>\n",
       "      <td>Aromas include tropical fruit, broom, brimston...</td>\n",
       "      <td>VulkÃ  Bianco</td>\n",
       "      <td>87</td>\n",
       "      <td>NaN</td>\n",
       "      <td>Sicily &amp; Sardinia</td>\n",
       "      <td>Etna</td>\n",
       "      <td>NaN</td>\n",
       "      <td>Kerin Oâ€™Keefe</td>\n",
       "      <td>@kerinokeefe</td>\n",
       "      <td>Nicosia 2013 VulkÃ  Bianco  (Etna)</td>\n",
       "      <td>White Blend</td>\n",
       "      <td>Nicosia</td>\n",
       "    </tr>\n",
       "    <tr>\n",
       "      <th>1</th>\n",
       "      <td>1</td>\n",
       "      <td>Portugal</td>\n",
       "      <td>This is ripe and fruity, a wine that is smooth...</td>\n",
       "      <td>Avidagos</td>\n",
       "      <td>87</td>\n",
       "      <td>15.0</td>\n",
       "      <td>Douro</td>\n",
       "      <td>NaN</td>\n",
       "      <td>NaN</td>\n",
       "      <td>Roger Voss</td>\n",
       "      <td>@vossroger</td>\n",
       "      <td>Quinta dos Avidagos 2011 Avidagos Red (Douro)</td>\n",
       "      <td>Portuguese Red</td>\n",
       "      <td>Quinta dos Avidagos</td>\n",
       "    </tr>\n",
       "    <tr>\n",
       "      <th>2</th>\n",
       "      <td>2</td>\n",
       "      <td>US</td>\n",
       "      <td>Tart and snappy, the flavors of lime flesh and...</td>\n",
       "      <td>NaN</td>\n",
       "      <td>87</td>\n",
       "      <td>14.0</td>\n",
       "      <td>Oregon</td>\n",
       "      <td>Willamette Valley</td>\n",
       "      <td>Willamette Valley</td>\n",
       "      <td>Paul Gregutt</td>\n",
       "      <td>@paulgwineÂ</td>\n",
       "      <td>Rainstorm 2013 Pinot Gris (Willamette Valley)</td>\n",
       "      <td>Pinot Gris</td>\n",
       "      <td>Rainstorm</td>\n",
       "    </tr>\n",
       "    <tr>\n",
       "      <th>3</th>\n",
       "      <td>3</td>\n",
       "      <td>US</td>\n",
       "      <td>Pineapple rind, lemon pith and orange blossom ...</td>\n",
       "      <td>Reserve Late Harvest</td>\n",
       "      <td>87</td>\n",
       "      <td>13.0</td>\n",
       "      <td>Michigan</td>\n",
       "      <td>Lake Michigan Shore</td>\n",
       "      <td>NaN</td>\n",
       "      <td>Alexander Peartree</td>\n",
       "      <td>NaN</td>\n",
       "      <td>St. Julian 2013 Reserve Late Harvest Riesling ...</td>\n",
       "      <td>Riesling</td>\n",
       "      <td>St. Julian</td>\n",
       "    </tr>\n",
       "    <tr>\n",
       "      <th>4</th>\n",
       "      <td>4</td>\n",
       "      <td>US</td>\n",
       "      <td>Much like the regular bottling from 2012, this...</td>\n",
       "      <td>Vintner's Reserve Wild Child Block</td>\n",
       "      <td>87</td>\n",
       "      <td>65.0</td>\n",
       "      <td>Oregon</td>\n",
       "      <td>Willamette Valley</td>\n",
       "      <td>Willamette Valley</td>\n",
       "      <td>Paul Gregutt</td>\n",
       "      <td>@paulgwineÂ</td>\n",
       "      <td>Sweet Cheeks 2012 Vintner's Reserve Wild Child...</td>\n",
       "      <td>Pinot Noir</td>\n",
       "      <td>Sweet Cheeks</td>\n",
       "    </tr>\n",
       "  </tbody>\n",
       "</table>\n",
       "</div>"
      ],
      "text/plain": [
       "   S.NO   country                                        description  \\\n",
       "0     0     Italy  Aromas include tropical fruit, broom, brimston...   \n",
       "1     1  Portugal  This is ripe and fruity, a wine that is smooth...   \n",
       "2     2        US  Tart and snappy, the flavors of lime flesh and...   \n",
       "3     3        US  Pineapple rind, lemon pith and orange blossom ...   \n",
       "4     4        US  Much like the regular bottling from 2012, this...   \n",
       "\n",
       "                          designation  points  price           province  \\\n",
       "0                       VulkÃ  Bianco      87    NaN  Sicily & Sardinia   \n",
       "1                            Avidagos      87   15.0              Douro   \n",
       "2                                 NaN      87   14.0             Oregon   \n",
       "3                Reserve Late Harvest      87   13.0           Michigan   \n",
       "4  Vintner's Reserve Wild Child Block      87   65.0             Oregon   \n",
       "\n",
       "              region_1           region_2         taster_name  \\\n",
       "0                 Etna                NaN     Kerin Oâ€™Keefe   \n",
       "1                  NaN                NaN          Roger Voss   \n",
       "2    Willamette Valley  Willamette Valley        Paul Gregutt   \n",
       "3  Lake Michigan Shore                NaN  Alexander Peartree   \n",
       "4    Willamette Valley  Willamette Valley        Paul Gregutt   \n",
       "\n",
       "  taster_twitter_handle                                              title  \\\n",
       "0          @kerinokeefe                 Nicosia 2013 VulkÃ  Bianco  (Etna)   \n",
       "1            @vossroger      Quinta dos Avidagos 2011 Avidagos Red (Douro)   \n",
       "2          @paulgwineÂ       Rainstorm 2013 Pinot Gris (Willamette Valley)   \n",
       "3                   NaN  St. Julian 2013 Reserve Late Harvest Riesling ...   \n",
       "4          @paulgwineÂ   Sweet Cheeks 2012 Vintner's Reserve Wild Child...   \n",
       "\n",
       "          variety               winery  \n",
       "0     White Blend              Nicosia  \n",
       "1  Portuguese Red  Quinta dos Avidagos  \n",
       "2      Pinot Gris            Rainstorm  \n",
       "3        Riesling           St. Julian  \n",
       "4      Pinot Noir         Sweet Cheeks  "
      ]
     },
     "execution_count": 2,
     "metadata": {},
     "output_type": "execute_result"
    }
   ],
   "source": [
    "df1=pd.read_excel(\"wine reviews_small.xlsx\")\n",
    "df1.head()"
   ]
  },
  {
   "cell_type": "code",
   "execution_count": 3,
   "id": "baced6a8",
   "metadata": {},
   "outputs": [
    {
     "data": {
      "text/plain": [
       "Index(['S.NO', 'country', 'description', 'designation', 'points', 'price',\n",
       "       'province', 'region_1', 'region_2', 'taster_name',\n",
       "       'taster_twitter_handle', 'title', 'variety', 'winery'],\n",
       "      dtype='object')"
      ]
     },
     "execution_count": 3,
     "metadata": {},
     "output_type": "execute_result"
    }
   ],
   "source": [
    "df1.columns"
   ]
  },
  {
   "cell_type": "code",
   "execution_count": 4,
   "id": "6b7813c3",
   "metadata": {},
   "outputs": [
    {
     "data": {
      "text/plain": [
       "S.NO                         0\n",
       "country                     15\n",
       "description                  0\n",
       "designation               8450\n",
       "points                       0\n",
       "price                     2125\n",
       "province                    15\n",
       "region_1                  4966\n",
       "region_2                 18254\n",
       "taster_name               6121\n",
       "taster_twitter_handle     7237\n",
       "title                        0\n",
       "variety                      0\n",
       "winery                       0\n",
       "dtype: int64"
      ]
     },
     "execution_count": 4,
     "metadata": {},
     "output_type": "execute_result"
    }
   ],
   "source": [
    "df1.isnull().sum()"
   ]
  },
  {
   "cell_type": "code",
   "execution_count": 5,
   "id": "4c4a55c8",
   "metadata": {},
   "outputs": [
    {
     "name": "stdout",
     "output_type": "stream",
     "text": [
      "<class 'pandas.core.frame.DataFrame'>\n",
      "RangeIndex: 29665 entries, 0 to 29664\n",
      "Data columns (total 14 columns):\n",
      " #   Column                 Non-Null Count  Dtype  \n",
      "---  ------                 --------------  -----  \n",
      " 0   S.NO                   29665 non-null  int64  \n",
      " 1   country                29650 non-null  object \n",
      " 2   description            29665 non-null  object \n",
      " 3   designation            21215 non-null  object \n",
      " 4   points                 29665 non-null  int64  \n",
      " 5   price                  27540 non-null  float64\n",
      " 6   province               29650 non-null  object \n",
      " 7   region_1               24699 non-null  object \n",
      " 8   region_2               11411 non-null  object \n",
      " 9   taster_name            23544 non-null  object \n",
      " 10  taster_twitter_handle  22428 non-null  object \n",
      " 11  title                  29665 non-null  object \n",
      " 12  variety                29665 non-null  object \n",
      " 13  winery                 29665 non-null  object \n",
      "dtypes: float64(1), int64(2), object(11)\n",
      "memory usage: 3.2+ MB\n"
     ]
    }
   ],
   "source": [
    "df1.info()"
   ]
  },
  {
   "cell_type": "code",
   "execution_count": 6,
   "id": "5209af15",
   "metadata": {},
   "outputs": [
    {
     "data": {
      "text/html": [
       "<div>\n",
       "<style scoped>\n",
       "    .dataframe tbody tr th:only-of-type {\n",
       "        vertical-align: middle;\n",
       "    }\n",
       "\n",
       "    .dataframe tbody tr th {\n",
       "        vertical-align: top;\n",
       "    }\n",
       "\n",
       "    .dataframe thead th {\n",
       "        text-align: right;\n",
       "    }\n",
       "</style>\n",
       "<table border=\"1\" class=\"dataframe\">\n",
       "  <thead>\n",
       "    <tr style=\"text-align: right;\">\n",
       "      <th></th>\n",
       "      <th>S.NO</th>\n",
       "      <th>points</th>\n",
       "      <th>price</th>\n",
       "    </tr>\n",
       "  </thead>\n",
       "  <tbody>\n",
       "    <tr>\n",
       "      <th>count</th>\n",
       "      <td>29665.000000</td>\n",
       "      <td>29665.000000</td>\n",
       "      <td>27540.000000</td>\n",
       "    </tr>\n",
       "    <tr>\n",
       "      <th>mean</th>\n",
       "      <td>15035.887949</td>\n",
       "      <td>88.385539</td>\n",
       "      <td>34.990123</td>\n",
       "    </tr>\n",
       "    <tr>\n",
       "      <th>std</th>\n",
       "      <td>8702.987437</td>\n",
       "      <td>3.010396</td>\n",
       "      <td>40.472213</td>\n",
       "    </tr>\n",
       "    <tr>\n",
       "      <th>min</th>\n",
       "      <td>0.000000</td>\n",
       "      <td>80.000000</td>\n",
       "      <td>4.000000</td>\n",
       "    </tr>\n",
       "    <tr>\n",
       "      <th>25%</th>\n",
       "      <td>7416.000000</td>\n",
       "      <td>86.000000</td>\n",
       "      <td>17.000000</td>\n",
       "    </tr>\n",
       "    <tr>\n",
       "      <th>50%</th>\n",
       "      <td>15168.000000</td>\n",
       "      <td>88.000000</td>\n",
       "      <td>25.000000</td>\n",
       "    </tr>\n",
       "    <tr>\n",
       "      <th>75%</th>\n",
       "      <td>22584.000000</td>\n",
       "      <td>91.000000</td>\n",
       "      <td>42.000000</td>\n",
       "    </tr>\n",
       "    <tr>\n",
       "      <th>max</th>\n",
       "      <td>30000.000000</td>\n",
       "      <td>100.000000</td>\n",
       "      <td>2500.000000</td>\n",
       "    </tr>\n",
       "  </tbody>\n",
       "</table>\n",
       "</div>"
      ],
      "text/plain": [
       "               S.NO        points         price\n",
       "count  29665.000000  29665.000000  27540.000000\n",
       "mean   15035.887949     88.385539     34.990123\n",
       "std     8702.987437      3.010396     40.472213\n",
       "min        0.000000     80.000000      4.000000\n",
       "25%     7416.000000     86.000000     17.000000\n",
       "50%    15168.000000     88.000000     25.000000\n",
       "75%    22584.000000     91.000000     42.000000\n",
       "max    30000.000000    100.000000   2500.000000"
      ]
     },
     "execution_count": 6,
     "metadata": {},
     "output_type": "execute_result"
    }
   ],
   "source": [
    "df1.describe()"
   ]
  },
  {
   "cell_type": "code",
   "execution_count": 7,
   "id": "10b71689",
   "metadata": {},
   "outputs": [
    {
     "data": {
      "text/plain": [
       "Reserve                       438\n",
       "Estate                        327\n",
       "Reserva                       269\n",
       "Riserva                       154\n",
       "Estate Grown                  132\n",
       "                             ... \n",
       "Domillor Harvest Selection      1\n",
       "Quinta da Pisca Vintage         1\n",
       "Sassabruna                      1\n",
       "Le Bruciate Riserva             1\n",
       "Ried Grillenparz Reserve        1\n",
       "Name: designation, Length: 13453, dtype: int64"
      ]
     },
     "execution_count": 7,
     "metadata": {},
     "output_type": "execute_result"
    }
   ],
   "source": [
    "df1.designation.value_counts()"
   ]
  },
  {
   "cell_type": "code",
   "execution_count": 8,
   "id": "8556c8d6",
   "metadata": {},
   "outputs": [
    {
     "data": {
      "text/plain": [
       "Korbel NV Brut Sparkling (California)                               4\n",
       "Ruinart NV Brut RosÃ©  (Champagne)                                  3\n",
       "G. H. Mumm NV Cordon Rouge Brut  (Champagne)                        3\n",
       "Gloria Ferrer NV Sonoma Brut Sparkling (Sonoma County)              3\n",
       "Mailly Grand Cru NV DÃ©lice Demi-Sec  (Champagne)                   3\n",
       "                                                                   ..\n",
       "Heinz Eifel 2015 Kabinett Riesling (Mosel)                          1\n",
       "Glenelly 2015 Glass Collection Unoaked Chardonnay (Stellenbosch)    1\n",
       "Domaine Laleure-Piot 2014 Les Champs Longs  (Chorey-lÃ¨s-Beaune)    1\n",
       "Domaine de Dauliac 2015 Malbec (Cahors)                             1\n",
       "Stadt Krems 2014 Ried Grillenparz Reserve Riesling (Kremstal)       1\n",
       "Name: title, Length: 29107, dtype: int64"
      ]
     },
     "execution_count": 8,
     "metadata": {},
     "output_type": "execute_result"
    }
   ],
   "source": [
    "df1.title.value_counts()"
   ]
  },
  {
   "cell_type": "code",
   "execution_count": 9,
   "id": "21aed8f1",
   "metadata": {},
   "outputs": [
    {
     "data": {
      "text/plain": [
       "Pinot Noir                  2994\n",
       "Chardonnay                  2574\n",
       "Cabernet Sauvignon          2159\n",
       "Red Blend                   2018\n",
       "Bordeaux-style Red Blend    1596\n",
       "                            ... \n",
       "Melnik                         1\n",
       "Siegerrebe                     1\n",
       "EkigaÃ¯na                      1\n",
       "Viognier-Roussanne             1\n",
       "Tinto Velasco                  1\n",
       "Name: variety, Length: 478, dtype: int64"
      ]
     },
     "execution_count": 9,
     "metadata": {},
     "output_type": "execute_result"
    }
   ],
   "source": [
    "df1.variety.value_counts()"
   ]
  },
  {
   "cell_type": "code",
   "execution_count": 10,
   "id": "bffcf73c",
   "metadata": {},
   "outputs": [
    {
     "data": {
      "text/plain": [
       "20.0     1643\n",
       "15.0     1387\n",
       "25.0     1294\n",
       "30.0     1113\n",
       "18.0     1103\n",
       "         ... \n",
       "161.0       1\n",
       "151.0       1\n",
       "359.0       1\n",
       "305.0       1\n",
       "227.0       1\n",
       "Name: price, Length: 242, dtype: int64"
      ]
     },
     "execution_count": 10,
     "metadata": {},
     "output_type": "execute_result"
    }
   ],
   "source": [
    "df1.price.value_counts()"
   ]
  },
  {
   "cell_type": "code",
   "execution_count": 11,
   "id": "3e41683c",
   "metadata": {},
   "outputs": [
    {
     "data": {
      "text/plain": [
       "87    4106\n",
       "88    3751\n",
       "90    3524\n",
       "86    3001\n",
       "89    2666\n",
       "Name: points, dtype: int64"
      ]
     },
     "execution_count": 11,
     "metadata": {},
     "output_type": "execute_result"
    }
   ],
   "source": [
    "df1.points.value_counts().head(5)"
   ]
  },
  {
   "cell_type": "code",
   "execution_count": 12,
   "id": "8d59a46b",
   "metadata": {},
   "outputs": [],
   "source": [
    "## is their is any relation between point and price for that i will find correlation \n",
    "df1.drop([\"S.NO\"],axis=1,inplace=True)\n",
    "\n"
   ]
  },
  {
   "cell_type": "code",
   "execution_count": 13,
   "id": "3152f77c",
   "metadata": {},
   "outputs": [
    {
     "data": {
      "text/html": [
       "<div>\n",
       "<style scoped>\n",
       "    .dataframe tbody tr th:only-of-type {\n",
       "        vertical-align: middle;\n",
       "    }\n",
       "\n",
       "    .dataframe tbody tr th {\n",
       "        vertical-align: top;\n",
       "    }\n",
       "\n",
       "    .dataframe thead th {\n",
       "        text-align: right;\n",
       "    }\n",
       "</style>\n",
       "<table border=\"1\" class=\"dataframe\">\n",
       "  <thead>\n",
       "    <tr style=\"text-align: right;\">\n",
       "      <th></th>\n",
       "      <th>points</th>\n",
       "      <th>price</th>\n",
       "    </tr>\n",
       "  </thead>\n",
       "  <tbody>\n",
       "    <tr>\n",
       "      <th>points</th>\n",
       "      <td>1.000000</td>\n",
       "      <td>0.415847</td>\n",
       "    </tr>\n",
       "    <tr>\n",
       "      <th>price</th>\n",
       "      <td>0.415847</td>\n",
       "      <td>1.000000</td>\n",
       "    </tr>\n",
       "  </tbody>\n",
       "</table>\n",
       "</div>"
      ],
      "text/plain": [
       "          points     price\n",
       "points  1.000000  0.415847\n",
       "price   0.415847  1.000000"
      ]
     },
     "execution_count": 13,
     "metadata": {},
     "output_type": "execute_result"
    }
   ],
   "source": [
    "df1.corr()"
   ]
  },
  {
   "cell_type": "code",
   "execution_count": 14,
   "id": "a5ae1a42",
   "metadata": {},
   "outputs": [
    {
     "data": {
      "image/png": "[encoded data removed]",
      "text/plain": [
       "<Figure size 432x288 with 1 Axes>"
      ]
     },
     "metadata": {
      "needs_background": "light"
     },
     "output_type": "display_data"
    }
   ],
   "source": [
    "plt.scatter(df1.points,df1.price,color=\"y\",linewidth=2)\n",
    "plt.xlabel(\"points\")\n",
    "plt.ylabel(\"price\")\n",
    "plt.show()"
   ]
  },
  {
   "cell_type": "markdown",
   "id": "aa7383cc",
   "metadata": {},
   "source": [
    "observation:points and price are slightly positive corelated"
   ]
  },
  {
   "cell_type": "code",
   "execution_count": 15,
   "id": "225b041a",
   "metadata": {},
   "outputs": [
    {
     "data": {
      "text/plain": [
       "US           12277\n",
       "France        5030\n",
       "Italy         4500\n",
       "Spain         1503\n",
       "Portugal      1336\n",
       "Chile         1085\n",
       "Argentina      901\n",
       "Austria        777\n",
       "Australia      504\n",
       "Germany        493\n",
       "Name: country, dtype: int64"
      ]
     },
     "execution_count": 15,
     "metadata": {},
     "output_type": "execute_result"
    }
   ],
   "source": [
    "df1.country.value_counts().head(10)"
   ]
  },
  {
   "cell_type": "code",
   "execution_count": 16,
   "id": "507156ac",
   "metadata": {},
   "outputs": [
    {
     "data": {
      "text/plain": [
       "California          8251\n",
       "Washington          1931\n",
       "Bordeaux            1366\n",
       "Tuscany             1246\n",
       "Oregon              1159\n",
       "Burgundy             926\n",
       "Piedmont             873\n",
       "Northern Spain       838\n",
       "Mendoza Province     771\n",
       "Veneto               636\n",
       "Name: province, dtype: int64"
      ]
     },
     "execution_count": 16,
     "metadata": {},
     "output_type": "execute_result"
    }
   ],
   "source": [
    "df1.province.value_counts().head(10)"
   ]
  },
  {
   "cell_type": "code",
   "execution_count": 17,
   "id": "8743b755",
   "metadata": {},
   "outputs": [
    {
     "data": {
      "text/html": [
       "<div>\n",
       "<style scoped>\n",
       "    .dataframe tbody tr th:only-of-type {\n",
       "        vertical-align: middle;\n",
       "    }\n",
       "\n",
       "    .dataframe tbody tr th {\n",
       "        vertical-align: top;\n",
       "    }\n",
       "\n",
       "    .dataframe thead th {\n",
       "        text-align: right;\n",
       "    }\n",
       "</style>\n",
       "<table border=\"1\" class=\"dataframe\">\n",
       "  <thead>\n",
       "    <tr style=\"text-align: right;\">\n",
       "      <th></th>\n",
       "      <th>country</th>\n",
       "      <th>province</th>\n",
       "      <th>no of reviews</th>\n",
       "    </tr>\n",
       "  </thead>\n",
       "  <tbody>\n",
       "    <tr>\n",
       "      <th>300</th>\n",
       "      <td>US</td>\n",
       "      <td>California</td>\n",
       "      <td>8251</td>\n",
       "    </tr>\n",
       "    <tr>\n",
       "      <th>320</th>\n",
       "      <td>US</td>\n",
       "      <td>Washington</td>\n",
       "      <td>1931</td>\n",
       "    </tr>\n",
       "    <tr>\n",
       "      <th>96</th>\n",
       "      <td>France</td>\n",
       "      <td>Bordeaux</td>\n",
       "      <td>1366</td>\n",
       "    </tr>\n",
       "    <tr>\n",
       "      <th>171</th>\n",
       "      <td>Italy</td>\n",
       "      <td>Tuscany</td>\n",
       "      <td>1246</td>\n",
       "    </tr>\n",
       "    <tr>\n",
       "      <th>315</th>\n",
       "      <td>US</td>\n",
       "      <td>Oregon</td>\n",
       "      <td>1159</td>\n",
       "    </tr>\n",
       "    <tr>\n",
       "      <th>97</th>\n",
       "      <td>France</td>\n",
       "      <td>Burgundy</td>\n",
       "      <td>926</td>\n",
       "    </tr>\n",
       "    <tr>\n",
       "      <th>168</th>\n",
       "      <td>Italy</td>\n",
       "      <td>Piedmont</td>\n",
       "      <td>873</td>\n",
       "    </tr>\n",
       "    <tr>\n",
       "      <th>288</th>\n",
       "      <td>Spain</td>\n",
       "      <td>Northern Spain</td>\n",
       "      <td>838</td>\n",
       "    </tr>\n",
       "    <tr>\n",
       "      <th>0</th>\n",
       "      <td>Argentina</td>\n",
       "      <td>Mendoza Province</td>\n",
       "      <td>771</td>\n",
       "    </tr>\n",
       "    <tr>\n",
       "      <th>172</th>\n",
       "      <td>Italy</td>\n",
       "      <td>Veneto</td>\n",
       "      <td>636</td>\n",
       "    </tr>\n",
       "  </tbody>\n",
       "</table>\n",
       "</div>"
      ],
      "text/plain": [
       "       country          province  no of reviews\n",
       "300         US        California           8251\n",
       "320         US        Washington           1931\n",
       "96      France          Bordeaux           1366\n",
       "171      Italy           Tuscany           1246\n",
       "315         US            Oregon           1159\n",
       "97      France          Burgundy            926\n",
       "168      Italy          Piedmont            873\n",
       "288      Spain    Northern Spain            838\n",
       "0    Argentina  Mendoza Province            771\n",
       "172      Italy            Veneto            636"
      ]
     },
     "execution_count": 17,
     "metadata": {},
     "output_type": "execute_result"
    }
   ],
   "source": [
    "df1.groupby(['country','province']).size().reset_index().rename(columns={0:\"no of reviews\"}).nlargest(10,\"no of reviews\")"
   ]
  },
  {
   "cell_type": "markdown",
   "id": "6cd40444",
   "metadata": {},
   "source": [
    "observation: Here are top 10 proviance followed by their country name having a higher no of reviews or else i can say that \n",
    "    the most no. of wines are reviewd from this province"
   ]
  },
  {
   "cell_type": "code",
   "execution_count": 18,
   "id": "c1b8e02c",
   "metadata": {},
   "outputs": [
    {
     "data": {
      "text/plain": [
       "Napa Valley              1032\n",
       "Columbia Valley (WA)      909\n",
       "Russian River Valley      718\n",
       "California                633\n",
       "Mendoza                   542\n",
       "                         ... \n",
       "Tarantino                   1\n",
       "Santa Margarita Ranch       1\n",
       "Brachetto d'Acqui           1\n",
       "RÃ­o Negro Valley           1\n",
       "Custoza                     1\n",
       "Name: region_1, Length: 964, dtype: int64"
      ]
     },
     "execution_count": 18,
     "metadata": {},
     "output_type": "execute_result"
    }
   ],
   "source": [
    "df1.region_1.value_counts()"
   ]
  },
  {
   "cell_type": "code",
   "execution_count": 19,
   "id": "3fda7159",
   "metadata": {},
   "outputs": [
    {
     "data": {
      "text/plain": [
       "Central Coast        2476\n",
       "Sonoma               2085\n",
       "Columbia Valley      1812\n",
       "Napa                 1572\n",
       "Willamette Valley     723\n",
       "California Other      637\n",
       "Finger Lakes          401\n",
       "Sierra Foothills      345\n",
       "Napa-Sonoma           286\n",
       "Central Valley        202\n",
       "Southern Oregon       193\n",
       "Oregon Other          175\n",
       "Long Island           152\n",
       "Washington Other      119\n",
       "North Coast           110\n",
       "New York Other         65\n",
       "South Coast            58\n",
       "Name: region_2, dtype: int64"
      ]
     },
     "execution_count": 19,
     "metadata": {},
     "output_type": "execute_result"
    }
   ],
   "source": [
    "df1.region_2.value_counts()"
   ]
  },
  {
   "cell_type": "code",
   "execution_count": 20,
   "id": "0de1c91a",
   "metadata": {},
   "outputs": [
    {
     "data": {
      "text/plain": [
       "Korbel NV Brut Sparkling (California)                               4\n",
       "Ruinart NV Brut RosÃ©  (Champagne)                                  3\n",
       "G. H. Mumm NV Cordon Rouge Brut  (Champagne)                        3\n",
       "Gloria Ferrer NV Sonoma Brut Sparkling (Sonoma County)              3\n",
       "Mailly Grand Cru NV DÃ©lice Demi-Sec  (Champagne)                   3\n",
       "                                                                   ..\n",
       "Heinz Eifel 2015 Kabinett Riesling (Mosel)                          1\n",
       "Glenelly 2015 Glass Collection Unoaked Chardonnay (Stellenbosch)    1\n",
       "Domaine Laleure-Piot 2014 Les Champs Longs  (Chorey-lÃ¨s-Beaune)    1\n",
       "Domaine de Dauliac 2015 Malbec (Cahors)                             1\n",
       "Stadt Krems 2014 Ried Grillenparz Reserve Riesling (Kremstal)       1\n",
       "Name: title, Length: 29107, dtype: int64"
      ]
     },
     "execution_count": 20,
     "metadata": {},
     "output_type": "execute_result"
    }
   ],
   "source": [
    "df1.title.value_counts()"
   ]
  },
  {
   "cell_type": "code",
   "execution_count": 21,
   "id": "66979c6f",
   "metadata": {},
   "outputs": [
    {
     "data": {
      "text/html": [
       "<div>\n",
       "<style scoped>\n",
       "    .dataframe tbody tr th:only-of-type {\n",
       "        vertical-align: middle;\n",
       "    }\n",
       "\n",
       "    .dataframe tbody tr th {\n",
       "        vertical-align: top;\n",
       "    }\n",
       "\n",
       "    .dataframe thead th {\n",
       "        text-align: right;\n",
       "    }\n",
       "</style>\n",
       "<table border=\"1\" class=\"dataframe\">\n",
       "  <thead>\n",
       "    <tr style=\"text-align: right;\">\n",
       "      <th></th>\n",
       "      <th>title</th>\n",
       "      <th>points</th>\n",
       "      <th>no of reviews</th>\n",
       "    </tr>\n",
       "  </thead>\n",
       "  <tbody>\n",
       "    <tr>\n",
       "      <th>1456</th>\n",
       "      <td>Avignonesi 1995 Occhio di Pernice  (Vin Santo ...</td>\n",
       "      <td>100</td>\n",
       "      <td>1</td>\n",
       "    </tr>\n",
       "    <tr>\n",
       "      <th>5014</th>\n",
       "      <td>Chambers Rosewood Vineyards NV Rare Muscat (Ru...</td>\n",
       "      <td>100</td>\n",
       "      <td>1</td>\n",
       "    </tr>\n",
       "    <tr>\n",
       "      <th>21617</th>\n",
       "      <td>Quilceda Creek 2008 Cabernet Sauvignon (Columb...</td>\n",
       "      <td>99</td>\n",
       "      <td>1</td>\n",
       "    </tr>\n",
       "    <tr>\n",
       "      <th>28537</th>\n",
       "      <td>Williams Selyem 2009 Precious Mountain Vineyar...</td>\n",
       "      <td>99</td>\n",
       "      <td>1</td>\n",
       "    </tr>\n",
       "    <tr>\n",
       "      <th>3188</th>\n",
       "      <td>Brezza 2013 Cannubi  (Barolo)</td>\n",
       "      <td>98</td>\n",
       "      <td>1</td>\n",
       "    </tr>\n",
       "    <tr>\n",
       "      <th>5013</th>\n",
       "      <td>Chambers Rosewood Vineyards NV Rare Muscadelle...</td>\n",
       "      <td>98</td>\n",
       "      <td>1</td>\n",
       "    </tr>\n",
       "    <tr>\n",
       "      <th>6102</th>\n",
       "      <td>ChÃ¢teau Margaux 2009  Margaux</td>\n",
       "      <td>98</td>\n",
       "      <td>1</td>\n",
       "    </tr>\n",
       "    <tr>\n",
       "      <th>6187</th>\n",
       "      <td>ChÃ¢teau Palmer 2009  Margaux</td>\n",
       "      <td>98</td>\n",
       "      <td>1</td>\n",
       "    </tr>\n",
       "    <tr>\n",
       "      <th>7520</th>\n",
       "      <td>Comm. G. B. Burlotto 2013 Monvigliero  (Barolo)</td>\n",
       "      <td>98</td>\n",
       "      <td>1</td>\n",
       "    </tr>\n",
       "    <tr>\n",
       "      <th>12630</th>\n",
       "      <td>Giuseppe Rinaldi 2013 Brunate  (Barolo)</td>\n",
       "      <td>98</td>\n",
       "      <td>1</td>\n",
       "    </tr>\n",
       "    <tr>\n",
       "      <th>14080</th>\n",
       "      <td>Iron Horse 2003 Joy! Estate Bottled Sparkling ...</td>\n",
       "      <td>98</td>\n",
       "      <td>1</td>\n",
       "    </tr>\n",
       "    <tr>\n",
       "      <th>16882</th>\n",
       "      <td>Louis Jadot 2014  BÃ¢tard-Montrachet</td>\n",
       "      <td>98</td>\n",
       "      <td>1</td>\n",
       "    </tr>\n",
       "    <tr>\n",
       "      <th>17547</th>\n",
       "      <td>Marchesi Antinori 2008 Guado al Tasso  (Bolghe...</td>\n",
       "      <td>98</td>\n",
       "      <td>1</td>\n",
       "    </tr>\n",
       "    <tr>\n",
       "      <th>18006</th>\n",
       "      <td>Massolino 2011 Vigna Rionda Riserva  (Barolo)</td>\n",
       "      <td>98</td>\n",
       "      <td>1</td>\n",
       "    </tr>\n",
       "    <tr>\n",
       "      <th>21020</th>\n",
       "      <td>Pirouette 2008 Red Wine Red (Columbia Valley (...</td>\n",
       "      <td>98</td>\n",
       "      <td>1</td>\n",
       "    </tr>\n",
       "    <tr>\n",
       "      <th>22707</th>\n",
       "      <td>Robert Weil 2015 Kiedrich GrÃ¤fenberg Trockenb...</td>\n",
       "      <td>98</td>\n",
       "      <td>1</td>\n",
       "    </tr>\n",
       "    <tr>\n",
       "      <th>24045</th>\n",
       "      <td>Shafer 2012 Hillside Select Cabernet Sauvignon...</td>\n",
       "      <td>98</td>\n",
       "      <td>1</td>\n",
       "    </tr>\n",
       "    <tr>\n",
       "      <th>25682</th>\n",
       "      <td>Tenuta San Guido 2013  Bolgheri Sassicaia</td>\n",
       "      <td>98</td>\n",
       "      <td>1</td>\n",
       "    </tr>\n",
       "    <tr>\n",
       "      <th>28265</th>\n",
       "      <td>Wayfarer 2014 The Traveler Pinot Noir (Fort Ro...</td>\n",
       "      <td>98</td>\n",
       "      <td>1</td>\n",
       "    </tr>\n",
       "    <tr>\n",
       "      <th>663</th>\n",
       "      <td>Altesino 2012 Montosoli  (Brunello di Montalcino)</td>\n",
       "      <td>97</td>\n",
       "      <td>1</td>\n",
       "    </tr>\n",
       "  </tbody>\n",
       "</table>\n",
       "</div>"
      ],
      "text/plain": [
       "                                                   title  points  \\\n",
       "1456   Avignonesi 1995 Occhio di Pernice  (Vin Santo ...     100   \n",
       "5014   Chambers Rosewood Vineyards NV Rare Muscat (Ru...     100   \n",
       "21617  Quilceda Creek 2008 Cabernet Sauvignon (Columb...      99   \n",
       "28537  Williams Selyem 2009 Precious Mountain Vineyar...      99   \n",
       "3188                       Brezza 2013 Cannubi  (Barolo)      98   \n",
       "5013   Chambers Rosewood Vineyards NV Rare Muscadelle...      98   \n",
       "6102                      ChÃ¢teau Margaux 2009  Margaux      98   \n",
       "6187                       ChÃ¢teau Palmer 2009  Margaux      98   \n",
       "7520     Comm. G. B. Burlotto 2013 Monvigliero  (Barolo)      98   \n",
       "12630            Giuseppe Rinaldi 2013 Brunate  (Barolo)      98   \n",
       "14080  Iron Horse 2003 Joy! Estate Bottled Sparkling ...      98   \n",
       "16882               Louis Jadot 2014  BÃ¢tard-Montrachet      98   \n",
       "17547  Marchesi Antinori 2008 Guado al Tasso  (Bolghe...      98   \n",
       "18006      Massolino 2011 Vigna Rionda Riserva  (Barolo)      98   \n",
       "21020  Pirouette 2008 Red Wine Red (Columbia Valley (...      98   \n",
       "22707  Robert Weil 2015 Kiedrich GrÃ¤fenberg Trockenb...      98   \n",
       "24045  Shafer 2012 Hillside Select Cabernet Sauvignon...      98   \n",
       "25682          Tenuta San Guido 2013  Bolgheri Sassicaia      98   \n",
       "28265  Wayfarer 2014 The Traveler Pinot Noir (Fort Ro...      98   \n",
       "663    Altesino 2012 Montosoli  (Brunello di Montalcino)      97   \n",
       "\n",
       "       no of reviews  \n",
       "1456               1  \n",
       "5014               1  \n",
       "21617              1  \n",
       "28537              1  \n",
       "3188               1  \n",
       "5013               1  \n",
       "6102               1  \n",
       "6187               1  \n",
       "7520               1  \n",
       "12630              1  \n",
       "14080              1  \n",
       "16882              1  \n",
       "17547              1  \n",
       "18006              1  \n",
       "21020              1  \n",
       "22707              1  \n",
       "24045              1  \n",
       "25682              1  \n",
       "28265              1  \n",
       "663                1  "
      ]
     },
     "execution_count": 21,
     "metadata": {},
     "output_type": "execute_result"
    }
   ],
   "source": [
    "df1.groupby(['title','points']).size().reset_index().rename(columns={0:\"no of reviews\"}).nlargest(20,\"points\")"
   ]
  },
  {
   "cell_type": "markdown",
   "id": "7e3a820a",
   "metadata": {},
   "source": [
    "observation: top 20 higest point scoring wines"
   ]
  },
  {
   "cell_type": "code",
   "execution_count": 22,
   "id": "ad9f8162",
   "metadata": {},
   "outputs": [
    {
     "data": {
      "text/plain": [
       "Georges Duboeuf              68\n",
       "Wines & Winemakers           53\n",
       "DFJ Vinhos                   48\n",
       "Chateau Ste. Michelle        47\n",
       "Louis Latour                 44\n",
       "                             ..\n",
       "Continuum                     1\n",
       "Domenico Clerico              1\n",
       "Domaine du Fief aux Dames     1\n",
       "Rivera                        1\n",
       "Medusa                        1\n",
       "Name: winery, Length: 9881, dtype: int64"
      ]
     },
     "execution_count": 22,
     "metadata": {},
     "output_type": "execute_result"
    }
   ],
   "source": [
    "df1.winery.value_counts()"
   ]
  },
  {
   "cell_type": "code",
   "execution_count": 23,
   "id": "582edd2a",
   "metadata": {},
   "outputs": [
    {
     "data": {
      "text/plain": [
       "Roger Voss            5904\n",
       "Michael Schachner     3583\n",
       "Kerin Oâ€™Keefe       2412\n",
       "Virginie Boone        2178\n",
       "Paul Gregutt          2157\n",
       "Matt Kettmann         1399\n",
       "Joe Czerwinski        1138\n",
       "Sean P. Sullivan      1023\n",
       "Anna Lee C. Iijima    1010\n",
       "Jim Gordon             917\n",
       "Anne KrebiehlÂ MW      823\n",
       "Lauren Buzzeo          427\n",
       "Susan Kostrzewa        273\n",
       "Mike DeSimone           98\n",
       "Jeff Jenssen            88\n",
       "Alexander Peartree      85\n",
       "Carrie Dykes            21\n",
       "Fiona Adams              7\n",
       "Christina Pickard        1\n",
       "Name: taster_name, dtype: int64"
      ]
     },
     "execution_count": 23,
     "metadata": {},
     "output_type": "execute_result"
    }
   ],
   "source": [
    "df1.taster_name.value_counts()"
   ]
  },
  {
   "cell_type": "code",
   "execution_count": 24,
   "id": "76adb235",
   "metadata": {},
   "outputs": [
    {
     "data": {
      "image/png": "[encoded data removed]",
      "text/plain": [
       "<Figure size 432x288 with 1 Axes>"
      ]
     },
     "metadata": {
      "needs_background": "light"
     },
     "output_type": "display_data"
    }
   ],
   "source": [
    "plt.boxplot(df1.points)\n",
    "plt.show()"
   ]
  },
  {
   "cell_type": "code",
   "execution_count": 25,
   "id": "8a9db6bd",
   "metadata": {},
   "outputs": [
    {
     "data": {
      "text/plain": [
       "count    29665.000000\n",
       "mean        88.385539\n",
       "std          3.010396\n",
       "min         80.000000\n",
       "25%         86.000000\n",
       "50%         88.000000\n",
       "75%         91.000000\n",
       "max        100.000000\n",
       "Name: points, dtype: float64"
      ]
     },
     "execution_count": 25,
     "metadata": {},
     "output_type": "execute_result"
    }
   ],
   "source": [
    "df1.points.describe()"
   ]
  },
  {
   "cell_type": "code",
   "execution_count": 26,
   "id": "f4a84e74",
   "metadata": {},
   "outputs": [
    {
     "data": {
      "image/png": "[encoded data removed]",
      "text/plain": [
       "<Figure size 432x288 with 1 Axes>"
      ]
     },
     "metadata": {
      "needs_background": "light"
     },
     "output_type": "display_data"
    }
   ],
   "source": [
    "plt.hist(df1.points,color=\"g\",bins=10)\n",
    "plt.show()"
   ]
  },
  {
   "cell_type": "code",
   "execution_count": 27,
   "id": "ce7b3e91",
   "metadata": {},
   "outputs": [
    {
     "data": {
      "text/plain": [
       "<AxesSubplot:ylabel='Density'>"
      ]
     },
     "execution_count": 27,
     "metadata": {},
     "output_type": "execute_result"
    },
    {
     "data": {
      "image/png": "[encoded data removed]",
      "text/plain": [
       "<Figure size 432x288 with 1 Axes>"
      ]
     },
     "metadata": {
      "needs_background": "light"
     },
     "output_type": "display_data"
    }
   ],
   "source": [
    "df1.points.plot.kde()"
   ]
  },
  {
   "cell_type": "markdown",
   "id": "826de969",
   "metadata": {},
   "source": [
    "observations: Most of the wine review point is fall between 86 to 91 i.e first quaratile to third quaratile"
   ]
  },
  {
   "cell_type": "markdown",
   "id": "932e5d14",
   "metadata": {},
   "source": [
    "## Now i am going to check for every tester higest review points and thier points giving range"
   ]
  },
  {
   "cell_type": "code",
   "execution_count": 28,
   "id": "7f23f8c5",
   "metadata": {},
   "outputs": [
    {
     "data": {
      "image/png": "[encoded data removed]",
      "text/plain": [
       "<Figure size 8640x3600 with 1 Axes>"
      ]
     },
     "metadata": {
      "needs_background": "light"
     },
     "output_type": "display_data"
    }
   ],
   "source": [
    "df1.boxplot([\"points\"],by=\"taster_name\",figsize=(120,50),fontsize=40,color=\"b\")\n",
    "plt.show()"
   ]
  },
  {
   "cell_type": "code",
   "execution_count": 29,
   "id": "851f6a5c",
   "metadata": {},
   "outputs": [
    {
     "data": {
      "text/plain": [
       "2500.0"
      ]
     },
     "execution_count": 29,
     "metadata": {},
     "output_type": "execute_result"
    }
   ],
   "source": [
    "df1.price.max()"
   ]
  },
  {
   "cell_type": "code",
   "execution_count": 30,
   "id": "44202835",
   "metadata": {},
   "outputs": [
    {
     "data": {
      "text/html": [
       "<div>\n",
       "<style scoped>\n",
       "    .dataframe tbody tr th:only-of-type {\n",
       "        vertical-align: middle;\n",
       "    }\n",
       "\n",
       "    .dataframe tbody tr th {\n",
       "        vertical-align: top;\n",
       "    }\n",
       "\n",
       "    .dataframe thead th {\n",
       "        text-align: right;\n",
       "    }\n",
       "</style>\n",
       "<table border=\"1\" class=\"dataframe\">\n",
       "  <thead>\n",
       "    <tr style=\"text-align: right;\">\n",
       "      <th></th>\n",
       "      <th>country</th>\n",
       "      <th>description</th>\n",
       "      <th>designation</th>\n",
       "      <th>points</th>\n",
       "      <th>price</th>\n",
       "      <th>province</th>\n",
       "      <th>region_1</th>\n",
       "      <th>region_2</th>\n",
       "      <th>taster_name</th>\n",
       "      <th>taster_twitter_handle</th>\n",
       "      <th>title</th>\n",
       "      <th>variety</th>\n",
       "      <th>winery</th>\n",
       "    </tr>\n",
       "  </thead>\n",
       "  <tbody>\n",
       "    <tr>\n",
       "      <th>15504</th>\n",
       "      <td>France</td>\n",
       "      <td>The wine is a velvet glove in an iron fist. Th...</td>\n",
       "      <td>NaN</td>\n",
       "      <td>96</td>\n",
       "      <td>2500.0</td>\n",
       "      <td>Bordeaux</td>\n",
       "      <td>Pomerol</td>\n",
       "      <td>NaN</td>\n",
       "      <td>Roger Voss</td>\n",
       "      <td>@vossroger</td>\n",
       "      <td>ChÃ¢teau PÃ©trus 2014  Pomerol</td>\n",
       "      <td>Bordeaux-style Red Blend</td>\n",
       "      <td>ChÃ¢teau PÃ©trus</td>\n",
       "    </tr>\n",
       "  </tbody>\n",
       "</table>\n",
       "</div>"
      ],
      "text/plain": [
       "      country                                        description designation  \\\n",
       "15504  France  The wine is a velvet glove in an iron fist. Th...         NaN   \n",
       "\n",
       "       points   price  province region_1 region_2 taster_name  \\\n",
       "15504      96  2500.0  Bordeaux  Pomerol      NaN  Roger Voss   \n",
       "\n",
       "      taster_twitter_handle                           title  \\\n",
       "15504            @vossroger  ChÃ¢teau PÃ©trus 2014  Pomerol   \n",
       "\n",
       "                        variety            winery  \n",
       "15504  Bordeaux-style Red Blend  ChÃ¢teau PÃ©trus  "
      ]
     },
     "execution_count": 30,
     "metadata": {},
     "output_type": "execute_result"
    }
   ],
   "source": [
    "df1.loc[df1.price==df1.price.max()]"
   ]
  },
  {
   "cell_type": "markdown",
   "id": "696ffaca",
   "metadata": {},
   "source": [
    "observation:ChÃ¢teau PÃ©trus 2014 Pomerol is costly wine"
   ]
  },
  {
   "cell_type": "code",
   "execution_count": 31,
   "id": "3d78fd78",
   "metadata": {},
   "outputs": [
    {
     "data": {
      "text/plain": [
       "'The wine is a velvet glove in an iron fist. The smooth surface of ripe fruits and rich blackberry flavors, masks the dense tannins that will allow this very great wine to age for many, many years. The acidity and the rich fruit combine with the fine dusty tannins. The wine will surely not be ready to drink before 2027.'"
      ]
     },
     "execution_count": 31,
     "metadata": {},
     "output_type": "execute_result"
    }
   ],
   "source": [
    "df1.loc[df1.price==df1.price.max()].description.values[0]"
   ]
  },
  {
   "cell_type": "code",
   "execution_count": 32,
   "id": "a7a2694b",
   "metadata": {},
   "outputs": [
    {
     "data": {
      "text/html": [
       "<div>\n",
       "<style scoped>\n",
       "    .dataframe tbody tr th:only-of-type {\n",
       "        vertical-align: middle;\n",
       "    }\n",
       "\n",
       "    .dataframe tbody tr th {\n",
       "        vertical-align: top;\n",
       "    }\n",
       "\n",
       "    .dataframe thead th {\n",
       "        text-align: right;\n",
       "    }\n",
       "</style>\n",
       "<table border=\"1\" class=\"dataframe\">\n",
       "  <thead>\n",
       "    <tr style=\"text-align: right;\">\n",
       "      <th></th>\n",
       "      <th>country</th>\n",
       "      <th>description</th>\n",
       "      <th>designation</th>\n",
       "      <th>points</th>\n",
       "      <th>price</th>\n",
       "      <th>province</th>\n",
       "      <th>region_1</th>\n",
       "      <th>region_2</th>\n",
       "      <th>taster_name</th>\n",
       "      <th>taster_twitter_handle</th>\n",
       "      <th>title</th>\n",
       "      <th>variety</th>\n",
       "      <th>winery</th>\n",
       "    </tr>\n",
       "  </thead>\n",
       "  <tbody>\n",
       "    <tr>\n",
       "      <th>1987</th>\n",
       "      <td>Spain</td>\n",
       "      <td>Berry and cherry aromas are surprisingly sturd...</td>\n",
       "      <td>Flirty Bird</td>\n",
       "      <td>85</td>\n",
       "      <td>4.0</td>\n",
       "      <td>Central Spain</td>\n",
       "      <td>Vino de la Tierra de Castilla</td>\n",
       "      <td>NaN</td>\n",
       "      <td>Michael Schachner</td>\n",
       "      <td>@wineschach</td>\n",
       "      <td>Felix Solis 2013 Flirty Bird Syrah (Vino de la...</td>\n",
       "      <td>Syrah</td>\n",
       "      <td>Felix Solis</td>\n",
       "    </tr>\n",
       "    <tr>\n",
       "      <th>20148</th>\n",
       "      <td>US</td>\n",
       "      <td>Fruity, soft and rather sweet, this wine smell...</td>\n",
       "      <td>NaN</td>\n",
       "      <td>85</td>\n",
       "      <td>4.0</td>\n",
       "      <td>California</td>\n",
       "      <td>Clarksburg</td>\n",
       "      <td>Central Valley</td>\n",
       "      <td>Jim Gordon</td>\n",
       "      <td>@gordone_cellars</td>\n",
       "      <td>Dancing Coyote 2015 White (Clarksburg)</td>\n",
       "      <td>White Blend</td>\n",
       "      <td>Dancing Coyote</td>\n",
       "    </tr>\n",
       "    <tr>\n",
       "      <th>29217</th>\n",
       "      <td>Argentina</td>\n",
       "      <td>Crimson in color but also translucent, with a ...</td>\n",
       "      <td>Red</td>\n",
       "      <td>84</td>\n",
       "      <td>4.0</td>\n",
       "      <td>Mendoza Province</td>\n",
       "      <td>Mendoza</td>\n",
       "      <td>NaN</td>\n",
       "      <td>Michael Schachner</td>\n",
       "      <td>@wineschach</td>\n",
       "      <td>Broke Ass 2009 Red Malbec-Syrah (Mendoza)</td>\n",
       "      <td>Malbec-Syrah</td>\n",
       "      <td>Broke Ass</td>\n",
       "    </tr>\n",
       "  </tbody>\n",
       "</table>\n",
       "</div>"
      ],
      "text/plain": [
       "         country                                        description  \\\n",
       "1987       Spain  Berry and cherry aromas are surprisingly sturd...   \n",
       "20148         US  Fruity, soft and rather sweet, this wine smell...   \n",
       "29217  Argentina  Crimson in color but also translucent, with a ...   \n",
       "\n",
       "       designation  points  price          province  \\\n",
       "1987   Flirty Bird      85    4.0     Central Spain   \n",
       "20148          NaN      85    4.0        California   \n",
       "29217          Red      84    4.0  Mendoza Province   \n",
       "\n",
       "                            region_1        region_2        taster_name  \\\n",
       "1987   Vino de la Tierra de Castilla             NaN  Michael Schachner   \n",
       "20148                     Clarksburg  Central Valley         Jim Gordon   \n",
       "29217                        Mendoza             NaN  Michael Schachner   \n",
       "\n",
       "      taster_twitter_handle  \\\n",
       "1987            @wineschach   \n",
       "20148      @gordone_cellars   \n",
       "29217           @wineschach   \n",
       "\n",
       "                                                   title       variety  \\\n",
       "1987   Felix Solis 2013 Flirty Bird Syrah (Vino de la...         Syrah   \n",
       "20148             Dancing Coyote 2015 White (Clarksburg)   White Blend   \n",
       "29217          Broke Ass 2009 Red Malbec-Syrah (Mendoza)  Malbec-Syrah   \n",
       "\n",
       "               winery  \n",
       "1987      Felix Solis  \n",
       "20148  Dancing Coyote  \n",
       "29217       Broke Ass  "
      ]
     },
     "execution_count": 32,
     "metadata": {},
     "output_type": "execute_result"
    }
   ],
   "source": [
    "df1.loc[df1.price==df1.price.min()]"
   ]
  },
  {
   "cell_type": "code",
   "execution_count": 33,
   "id": "dd1912cf",
   "metadata": {},
   "outputs": [
    {
     "data": {
      "text/plain": [
       "1987     Berry and cherry aromas are surprisingly sturd...\n",
       "20148    Fruity, soft and rather sweet, this wine smell...\n",
       "29217    Crimson in color but also translucent, with a ...\n",
       "Name: description, dtype: object"
      ]
     },
     "execution_count": 33,
     "metadata": {},
     "output_type": "execute_result"
    }
   ],
   "source": [
    "df1.loc[df1.price==df1.price.min()].description"
   ]
  },
  {
   "cell_type": "code",
   "execution_count": 34,
   "id": "97513ce9",
   "metadata": {},
   "outputs": [
    {
     "data": {
      "text/html": [
       "<div>\n",
       "<style scoped>\n",
       "    .dataframe tbody tr th:only-of-type {\n",
       "        vertical-align: middle;\n",
       "    }\n",
       "\n",
       "    .dataframe tbody tr th {\n",
       "        vertical-align: top;\n",
       "    }\n",
       "\n",
       "    .dataframe thead th {\n",
       "        text-align: right;\n",
       "    }\n",
       "</style>\n",
       "<table border=\"1\" class=\"dataframe\">\n",
       "  <thead>\n",
       "    <tr style=\"text-align: right;\">\n",
       "      <th></th>\n",
       "      <th>country</th>\n",
       "      <th>description</th>\n",
       "      <th>designation</th>\n",
       "      <th>points</th>\n",
       "      <th>price</th>\n",
       "      <th>province</th>\n",
       "      <th>region_1</th>\n",
       "      <th>region_2</th>\n",
       "      <th>taster_name</th>\n",
       "      <th>taster_twitter_handle</th>\n",
       "      <th>title</th>\n",
       "      <th>variety</th>\n",
       "      <th>winery</th>\n",
       "    </tr>\n",
       "  </thead>\n",
       "  <tbody>\n",
       "    <tr>\n",
       "      <th>344</th>\n",
       "      <td>Chile</td>\n",
       "      <td>Aromas of pumpkin, squash and corn chips are s...</td>\n",
       "      <td>Gran Reserva</td>\n",
       "      <td>80</td>\n",
       "      <td>19.0</td>\n",
       "      <td>Leyda Valley</td>\n",
       "      <td>NaN</td>\n",
       "      <td>NaN</td>\n",
       "      <td>Michael Schachner</td>\n",
       "      <td>@wineschach</td>\n",
       "      <td>ViÃ±a TarapacÃ¡ 2015 Gran Reserva Chardonnay (...</td>\n",
       "      <td>Chardonnay</td>\n",
       "      <td>ViÃ±a TarapacÃ¡</td>\n",
       "    </tr>\n",
       "    <tr>\n",
       "      <th>3640</th>\n",
       "      <td>Portugal</td>\n",
       "      <td>Aromas of strawberry sherbet are followed by s...</td>\n",
       "      <td>Estreia</td>\n",
       "      <td>80</td>\n",
       "      <td>8.0</td>\n",
       "      <td>Vinho Verde</td>\n",
       "      <td>NaN</td>\n",
       "      <td>NaN</td>\n",
       "      <td>Roger Voss</td>\n",
       "      <td>@vossroger</td>\n",
       "      <td>Viniverde 2011 Estreia RosÃ© (Vinho Verde)</td>\n",
       "      <td>RosÃ©</td>\n",
       "      <td>Viniverde</td>\n",
       "    </tr>\n",
       "    <tr>\n",
       "      <th>3641</th>\n",
       "      <td>Chile</td>\n",
       "      <td>Fluffy, sweet aromas of peach, pear and vanill...</td>\n",
       "      <td>Reserve</td>\n",
       "      <td>80</td>\n",
       "      <td>15.0</td>\n",
       "      <td>Maule Valley</td>\n",
       "      <td>NaN</td>\n",
       "      <td>NaN</td>\n",
       "      <td>Michael Schachner</td>\n",
       "      <td>@wineschach</td>\n",
       "      <td>Cuevas del Sur 2010 Reserve Chardonnay (Maule ...</td>\n",
       "      <td>Chardonnay</td>\n",
       "      <td>Cuevas del Sur</td>\n",
       "    </tr>\n",
       "    <tr>\n",
       "      <th>4556</th>\n",
       "      <td>Italy</td>\n",
       "      <td>There's a thorny, almost raw quality of fruit ...</td>\n",
       "      <td>Rondineto</td>\n",
       "      <td>80</td>\n",
       "      <td>12.0</td>\n",
       "      <td>Central Italy</td>\n",
       "      <td>Colli Aprutini</td>\n",
       "      <td>NaN</td>\n",
       "      <td>NaN</td>\n",
       "      <td>NaN</td>\n",
       "      <td>Fattoria Giuseppe Savini 2011 Rondineto Merlot...</td>\n",
       "      <td>Merlot</td>\n",
       "      <td>Fattoria Giuseppe Savini</td>\n",
       "    </tr>\n",
       "    <tr>\n",
       "      <th>4557</th>\n",
       "      <td>Spain</td>\n",
       "      <td>With dusty, candied aromas, the bouquet on thi...</td>\n",
       "      <td>Demi Sec</td>\n",
       "      <td>80</td>\n",
       "      <td>14.0</td>\n",
       "      <td>Catalonia</td>\n",
       "      <td>Cava</td>\n",
       "      <td>NaN</td>\n",
       "      <td>Michael Schachner</td>\n",
       "      <td>@wineschach</td>\n",
       "      <td>Paul Cheneau NV Demi Sec Sparkling (Cava)</td>\n",
       "      <td>Sparkling Blend</td>\n",
       "      <td>Paul Cheneau</td>\n",
       "    </tr>\n",
       "    <tr>\n",
       "      <th>...</th>\n",
       "      <td>...</td>\n",
       "      <td>...</td>\n",
       "      <td>...</td>\n",
       "      <td>...</td>\n",
       "      <td>...</td>\n",
       "      <td>...</td>\n",
       "      <td>...</td>\n",
       "      <td>...</td>\n",
       "      <td>...</td>\n",
       "      <td>...</td>\n",
       "      <td>...</td>\n",
       "      <td>...</td>\n",
       "      <td>...</td>\n",
       "    </tr>\n",
       "    <tr>\n",
       "      <th>28230</th>\n",
       "      <td>US</td>\n",
       "      <td>This unoaked Sauvignon Blanc is really powerfu...</td>\n",
       "      <td>NaN</td>\n",
       "      <td>80</td>\n",
       "      <td>10.0</td>\n",
       "      <td>California</td>\n",
       "      <td>California</td>\n",
       "      <td>California Other</td>\n",
       "      <td>NaN</td>\n",
       "      <td>NaN</td>\n",
       "      <td>Ironstone 2007 Sauvignon Blanc (California)</td>\n",
       "      <td>Sauvignon Blanc</td>\n",
       "      <td>Ironstone</td>\n",
       "    </tr>\n",
       "    <tr>\n",
       "      <th>28231</th>\n",
       "      <td>Spain</td>\n",
       "      <td>There's something not right about the way this...</td>\n",
       "      <td>Gran Reserva Brut Nature</td>\n",
       "      <td>80</td>\n",
       "      <td>27.0</td>\n",
       "      <td>Catalonia</td>\n",
       "      <td>Cava</td>\n",
       "      <td>NaN</td>\n",
       "      <td>Michael Schachner</td>\n",
       "      <td>@wineschach</td>\n",
       "      <td>Oriol Rossell NV Gran Reserva Brut Nature Spar...</td>\n",
       "      <td>Sparkling Blend</td>\n",
       "      <td>Oriol Rossell</td>\n",
       "    </tr>\n",
       "    <tr>\n",
       "      <th>28232</th>\n",
       "      <td>Spain</td>\n",
       "      <td>Eight grapes comprise this weird, peanutty, al...</td>\n",
       "      <td>Las Ocho</td>\n",
       "      <td>80</td>\n",
       "      <td>25.0</td>\n",
       "      <td>Levante</td>\n",
       "      <td>Utiel-Requena</td>\n",
       "      <td>NaN</td>\n",
       "      <td>Michael Schachner</td>\n",
       "      <td>@wineschach</td>\n",
       "      <td>Chozas Carrascal 2004 Las Ocho Red (Utiel-Requ...</td>\n",
       "      <td>Red Blend</td>\n",
       "      <td>Chozas Carrascal</td>\n",
       "    </tr>\n",
       "    <tr>\n",
       "      <th>28233</th>\n",
       "      <td>US</td>\n",
       "      <td>Smells and tastes like caramel and stewed cher...</td>\n",
       "      <td>Scoprire</td>\n",
       "      <td>80</td>\n",
       "      <td>55.0</td>\n",
       "      <td>California</td>\n",
       "      <td>California</td>\n",
       "      <td>California Other</td>\n",
       "      <td>NaN</td>\n",
       "      <td>NaN</td>\n",
       "      <td>MillÃ©simÃ© 2005 Scoprire Red (California)</td>\n",
       "      <td>Red Blend</td>\n",
       "      <td>MillÃ©simÃ©</td>\n",
       "    </tr>\n",
       "    <tr>\n",
       "      <th>28234</th>\n",
       "      <td>US</td>\n",
       "      <td>Port-like, with raisiny, baked cherry and cara...</td>\n",
       "      <td>Grand Reserve</td>\n",
       "      <td>80</td>\n",
       "      <td>40.0</td>\n",
       "      <td>California</td>\n",
       "      <td>California</td>\n",
       "      <td>California Other</td>\n",
       "      <td>NaN</td>\n",
       "      <td>NaN</td>\n",
       "      <td>French Hill 2006 Grand Reserve Petit Verdot (C...</td>\n",
       "      <td>Petit Verdot</td>\n",
       "      <td>French Hill</td>\n",
       "    </tr>\n",
       "  </tbody>\n",
       "</table>\n",
       "<p>70 rows × 13 columns</p>\n",
       "</div>"
      ],
      "text/plain": [
       "        country                                        description  \\\n",
       "344       Chile  Aromas of pumpkin, squash and corn chips are s...   \n",
       "3640   Portugal  Aromas of strawberry sherbet are followed by s...   \n",
       "3641      Chile  Fluffy, sweet aromas of peach, pear and vanill...   \n",
       "4556      Italy  There's a thorny, almost raw quality of fruit ...   \n",
       "4557      Spain  With dusty, candied aromas, the bouquet on thi...   \n",
       "...         ...                                                ...   \n",
       "28230        US  This unoaked Sauvignon Blanc is really powerfu...   \n",
       "28231     Spain  There's something not right about the way this...   \n",
       "28232     Spain  Eight grapes comprise this weird, peanutty, al...   \n",
       "28233        US  Smells and tastes like caramel and stewed cher...   \n",
       "28234        US  Port-like, with raisiny, baked cherry and cara...   \n",
       "\n",
       "                    designation  points  price       province        region_1  \\\n",
       "344                Gran Reserva      80   19.0   Leyda Valley             NaN   \n",
       "3640                    Estreia      80    8.0    Vinho Verde             NaN   \n",
       "3641                    Reserve      80   15.0   Maule Valley             NaN   \n",
       "4556                  Rondineto      80   12.0  Central Italy  Colli Aprutini   \n",
       "4557                   Demi Sec      80   14.0      Catalonia            Cava   \n",
       "...                         ...     ...    ...            ...             ...   \n",
       "28230                       NaN      80   10.0     California      California   \n",
       "28231  Gran Reserva Brut Nature      80   27.0      Catalonia            Cava   \n",
       "28232                  Las Ocho      80   25.0        Levante   Utiel-Requena   \n",
       "28233                  Scoprire      80   55.0     California      California   \n",
       "28234             Grand Reserve      80   40.0     California      California   \n",
       "\n",
       "               region_2        taster_name taster_twitter_handle  \\\n",
       "344                 NaN  Michael Schachner           @wineschach   \n",
       "3640                NaN         Roger Voss            @vossroger   \n",
       "3641                NaN  Michael Schachner           @wineschach   \n",
       "4556                NaN                NaN                   NaN   \n",
       "4557                NaN  Michael Schachner           @wineschach   \n",
       "...                 ...                ...                   ...   \n",
       "28230  California Other                NaN                   NaN   \n",
       "28231               NaN  Michael Schachner           @wineschach   \n",
       "28232               NaN  Michael Schachner           @wineschach   \n",
       "28233  California Other                NaN                   NaN   \n",
       "28234  California Other                NaN                   NaN   \n",
       "\n",
       "                                                   title          variety  \\\n",
       "344    ViÃ±a TarapacÃ¡ 2015 Gran Reserva Chardonnay (...       Chardonnay   \n",
       "3640          Viniverde 2011 Estreia RosÃ© (Vinho Verde)            RosÃ©   \n",
       "3641   Cuevas del Sur 2010 Reserve Chardonnay (Maule ...       Chardonnay   \n",
       "4556   Fattoria Giuseppe Savini 2011 Rondineto Merlot...           Merlot   \n",
       "4557           Paul Cheneau NV Demi Sec Sparkling (Cava)  Sparkling Blend   \n",
       "...                                                  ...              ...   \n",
       "28230        Ironstone 2007 Sauvignon Blanc (California)  Sauvignon Blanc   \n",
       "28231  Oriol Rossell NV Gran Reserva Brut Nature Spar...  Sparkling Blend   \n",
       "28232  Chozas Carrascal 2004 Las Ocho Red (Utiel-Requ...        Red Blend   \n",
       "28233         MillÃ©simÃ© 2005 Scoprire Red (California)        Red Blend   \n",
       "28234  French Hill 2006 Grand Reserve Petit Verdot (C...     Petit Verdot   \n",
       "\n",
       "                         winery  \n",
       "344             ViÃ±a TarapacÃ¡  \n",
       "3640                  Viniverde  \n",
       "3641             Cuevas del Sur  \n",
       "4556   Fattoria Giuseppe Savini  \n",
       "4557               Paul Cheneau  \n",
       "...                         ...  \n",
       "28230                 Ironstone  \n",
       "28231             Oriol Rossell  \n",
       "28232          Chozas Carrascal  \n",
       "28233               MillÃ©simÃ©  \n",
       "28234               French Hill  \n",
       "\n",
       "[70 rows x 13 columns]"
      ]
     },
     "execution_count": 34,
     "metadata": {},
     "output_type": "execute_result"
    }
   ],
   "source": [
    "df1.loc[df1.points==df1.points.min()]"
   ]
  },
  {
   "cell_type": "code",
   "execution_count": 35,
   "id": "966ddb30",
   "metadata": {},
   "outputs": [
    {
     "data": {
      "text/html": [
       "<div>\n",
       "<style scoped>\n",
       "    .dataframe tbody tr th:only-of-type {\n",
       "        vertical-align: middle;\n",
       "    }\n",
       "\n",
       "    .dataframe tbody tr th {\n",
       "        vertical-align: top;\n",
       "    }\n",
       "\n",
       "    .dataframe thead th {\n",
       "        text-align: right;\n",
       "    }\n",
       "</style>\n",
       "<table border=\"1\" class=\"dataframe\">\n",
       "  <thead>\n",
       "    <tr style=\"text-align: right;\">\n",
       "      <th></th>\n",
       "      <th>country</th>\n",
       "      <th>description</th>\n",
       "      <th>designation</th>\n",
       "      <th>points</th>\n",
       "      <th>price</th>\n",
       "      <th>province</th>\n",
       "      <th>region_1</th>\n",
       "      <th>region_2</th>\n",
       "      <th>taster_name</th>\n",
       "      <th>taster_twitter_handle</th>\n",
       "      <th>title</th>\n",
       "      <th>variety</th>\n",
       "      <th>winery</th>\n",
       "    </tr>\n",
       "  </thead>\n",
       "  <tbody>\n",
       "    <tr>\n",
       "      <th>345</th>\n",
       "      <td>Australia</td>\n",
       "      <td>This wine contains some material over 100 year...</td>\n",
       "      <td>Rare</td>\n",
       "      <td>100</td>\n",
       "      <td>350.0</td>\n",
       "      <td>Victoria</td>\n",
       "      <td>Rutherglen</td>\n",
       "      <td>NaN</td>\n",
       "      <td>Joe Czerwinski</td>\n",
       "      <td>@JoeCz</td>\n",
       "      <td>Chambers Rosewood Vineyards NV Rare Muscat (Ru...</td>\n",
       "      <td>Muscat</td>\n",
       "      <td>Chambers Rosewood Vineyards</td>\n",
       "    </tr>\n",
       "    <tr>\n",
       "      <th>7335</th>\n",
       "      <td>Italy</td>\n",
       "      <td>Thick as molasses and dark as caramelized brow...</td>\n",
       "      <td>Occhio di Pernice</td>\n",
       "      <td>100</td>\n",
       "      <td>210.0</td>\n",
       "      <td>Tuscany</td>\n",
       "      <td>Vin Santo di Montepulciano</td>\n",
       "      <td>NaN</td>\n",
       "      <td>NaN</td>\n",
       "      <td>NaN</td>\n",
       "      <td>Avignonesi 1995 Occhio di Pernice  (Vin Santo ...</td>\n",
       "      <td>Prugnolo Gentile</td>\n",
       "      <td>Avignonesi</td>\n",
       "    </tr>\n",
       "  </tbody>\n",
       "</table>\n",
       "</div>"
      ],
      "text/plain": [
       "        country                                        description  \\\n",
       "345   Australia  This wine contains some material over 100 year...   \n",
       "7335      Italy  Thick as molasses and dark as caramelized brow...   \n",
       "\n",
       "            designation  points  price  province                    region_1  \\\n",
       "345                Rare     100  350.0  Victoria                  Rutherglen   \n",
       "7335  Occhio di Pernice     100  210.0   Tuscany  Vin Santo di Montepulciano   \n",
       "\n",
       "     region_2     taster_name taster_twitter_handle  \\\n",
       "345       NaN  Joe Czerwinski                @JoeCz   \n",
       "7335      NaN             NaN                   NaN   \n",
       "\n",
       "                                                  title           variety  \\\n",
       "345   Chambers Rosewood Vineyards NV Rare Muscat (Ru...            Muscat   \n",
       "7335  Avignonesi 1995 Occhio di Pernice  (Vin Santo ...  Prugnolo Gentile   \n",
       "\n",
       "                           winery  \n",
       "345   Chambers Rosewood Vineyards  \n",
       "7335                   Avignonesi  "
      ]
     },
     "execution_count": 35,
     "metadata": {},
     "output_type": "execute_result"
    }
   ],
   "source": [
    "df1.loc[df1.points==df1.points.max()]"
   ]
  },
  {
   "cell_type": "code",
   "execution_count": 36,
   "id": "cf0d3ff0",
   "metadata": {},
   "outputs": [
    {
     "data": {
      "text/plain": [
       "Pinot Noir                  2994\n",
       "Chardonnay                  2574\n",
       "Cabernet Sauvignon          2159\n",
       "Red Blend                   2018\n",
       "Bordeaux-style Red Blend    1596\n",
       "                            ... \n",
       "Melnik                         1\n",
       "Siegerrebe                     1\n",
       "EkigaÃ¯na                      1\n",
       "Viognier-Roussanne             1\n",
       "Tinto Velasco                  1\n",
       "Name: variety, Length: 478, dtype: int64"
      ]
     },
     "execution_count": 36,
     "metadata": {},
     "output_type": "execute_result"
    }
   ],
   "source": [
    "df1.variety.value_counts()"
   ]
  },
  {
   "cell_type": "code",
   "execution_count": null,
   "id": "f2f384d7",
   "metadata": {},
   "outputs": [],
   "source": []
  }
 ],
 "metadata": {
  "kernelspec": {
   "display_name": "Python 3 (ipykernel)",
   "language": "python",
   "name": "python3"
  },
  "language_info": {
   "codemirror_mode": {
    "name": "ipython",
    "version": 3
   },
   "file_extension": ".py",
   "mimetype": "text/x-python",
   "name": "python",
   "nbconvert_exporter": "python",
   "pygments_lexer": "ipython3",
   "version": "3.9.7"
  }
 },
 "nbformat": 4,
 "nbformat_minor": 5
}
